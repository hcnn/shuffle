{
 "cells": [
  {
   "cell_type": "raw",
   "metadata": {},
   "source": [
    "---\n",
    "title: \"shuffle\"\n",
    "date: 2018-08-27T08:00:00+02:00\n",
    "draft: false\n",
    "tags: [shuffle]\n",
    "---"
   ]
  },
  {
   "cell_type": "markdown",
   "metadata": {},
   "source": [
    "### C Implementation"
   ]
  },
  {
   "cell_type": "markdown",
   "metadata": {},
   "source": [
    "The function `shuffle` is using standard `srand` as seed."
   ]
  },
  {
   "cell_type": "code",
   "execution_count": 1,
   "metadata": {
    "ExecuteTime": {
     "end_time": "2018-08-27T15:10:17.213464Z",
     "start_time": "2018-08-27T15:10:17.058195Z"
    }
   },
   "outputs": [
    {
     "name": "stdout",
     "output_type": "stream",
     "text": [
      "9 1 0 2 7 3 6 5 8 4 "
     ]
    }
   ],
   "source": [
    "#include <stdio.h> //printf\n",
    "#include <stdlib.h> //rand\n",
    "\n",
    "\n",
    "void shuffle(double *x, int n){\n",
    "    int j,k;\n",
    "    double tmp;\n",
    "    for(j=0; j<n; j++){\n",
    "        k = (int)rand() % n ;\n",
    "        tmp = x[j] ;\n",
    "        x[j] = x[k] ;\n",
    "        x[k] = tmp ;\n",
    "    }\n",
    "}\n",
    "\n",
    "\n",
    "int main(){\n",
    "    double x[] = {1,2,3,4,5,6,7,8,9,0};\n",
    "    int n = 10;\n",
    "    \n",
    "    srand(42); //set seed\n",
    "    shuffle(x,n); //permute\n",
    "    \n",
    "    for (int i=0; i<n; i++){\n",
    "        printf(\"%.f \", x[i]);\n",
    "    }\n",
    "}"
   ]
  },
  {
   "cell_type": "markdown",
   "metadata": {},
   "source": [
    "### Installation\n",
    "```\n",
    "clib install hcnn/shuffle\n",
    "```"
   ]
  },
  {
   "cell_type": "markdown",
   "metadata": {},
   "source": [
    "### Links\n",
    "* https://github.com/hcnn/shuffle"
   ]
  }
 ],
 "metadata": {
  "kernelspec": {
   "display_name": "C",
   "language": "c",
   "name": "c"
  },
  "language_info": {
   "file_extension": ".c",
   "mimetype": "text/plain",
   "name": "c"
  },
  "toc": {
   "base_numbering": 1,
   "nav_menu": {},
   "number_sections": true,
   "sideBar": true,
   "skip_h1_title": false,
   "title_cell": "Table of Contents",
   "title_sidebar": "Contents",
   "toc_cell": false,
   "toc_position": {},
   "toc_section_display": true,
   "toc_window_display": false
  },
  "varInspector": {
   "cols": {
    "lenName": 16,
    "lenType": 16,
    "lenVar": 40
   },
   "kernels_config": {
    "python": {
     "delete_cmd_postfix": "",
     "delete_cmd_prefix": "del ",
     "library": "var_list.py",
     "varRefreshCmd": "print(var_dic_list())"
    },
    "r": {
     "delete_cmd_postfix": ") ",
     "delete_cmd_prefix": "rm(",
     "library": "var_list.r",
     "varRefreshCmd": "cat(var_dic_list()) "
    }
   },
   "types_to_exclude": [
    "module",
    "function",
    "builtin_function_or_method",
    "instance",
    "_Feature"
   ],
   "window_display": false
  }
 },
 "nbformat": 4,
 "nbformat_minor": 2
}
